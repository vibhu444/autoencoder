{
 "cells": [
  {
   "cell_type": "code",
   "execution_count": 14,
   "metadata": {},
   "outputs": [
    {
     "name": "stdout",
     "output_type": "stream",
     "text": [
      "Extracting /MNIST_data/train-images-idx3-ubyte.gz\n",
      "Extracting /MNIST_data/train-labels-idx1-ubyte.gz\n",
      "Extracting /MNIST_data/t10k-images-idx3-ubyte.gz\n",
      "Extracting /MNIST_data/t10k-labels-idx1-ubyte.gz\n"
     ]
    }
   ],
   "source": [
    "import tensorflow as tf\n",
    "import matplotlib.pyplot as plt\n",
    "import numpy as np \n",
    "from tensorflow.examples.tutorials.mnist import input_data\n",
    "mnist = input_data.read_data_sets(\"/MNIST_data/\", one_hot = True)"
   ]
  },
  {
   "cell_type": "code",
   "execution_count": 15,
   "metadata": {
    "collapsed": true
   },
   "outputs": [],
   "source": [
    "learning_rate = 0.01 \n",
    "training_epochs = 10 \n",
    "batch_size = 256 \n",
    "display_step = 1 \n",
    "examples_to_show = 4 "
   ]
  },
  {
   "cell_type": "code",
   "execution_count": 16,
   "metadata": {
    "collapsed": true
   },
   "outputs": [],
   "source": [
    "n_hidden_1 = 256   \n",
    "n_hidden_2 = 128 \n",
    "n_input = 784 \n",
    "X = tf.placeholder(\"float\", [None, n_input])\n"
   ]
  },
  {
   "cell_type": "code",
   "execution_count": 17,
   "metadata": {
    "collapsed": true
   },
   "outputs": [],
   "source": [
    "# now intializing the weight for both encoding and decoding \n",
    "weights = {'encoder_h1': tf.Variable\\\n",
    "           (tf.random_normal([n_input, n_hidden_1])), \n",
    "           'encoder_h2': tf.Variable\\\n",
    "           (tf.random_normal([n_hidden_1, n_hidden_2])),\n",
    "           'decoder_h1': tf.Variable\\\n",
    "           (tf.random_normal([n_hidden_2, n_hidden_1])),\n",
    "           'decoder_h2': tf.Variable\\\n",
    "           (tf.random_normal([n_hidden_1, n_input]))}"
   ]
  },
  {
   "cell_type": "code",
   "execution_count": 33,
   "metadata": {
    "collapsed": true
   },
   "outputs": [],
   "source": [
    "# now same we intialize the bias for both encoding and decoding \n",
    "biases = {'encoder_b1': tf.Variable\\\n",
    "           (tf.random_normal([n_hidden_1])), \n",
    "           'encoder_b2': tf.Variable\\\n",
    "           (tf.random_normal([ n_hidden_2])),\n",
    "           'decoder_b1': tf.Variable\\\n",
    "           (tf.random_normal([ n_hidden_1])),\n",
    "           'decoder_b2': tf.Variable\\\n",
    "           (tf.random_normal([ n_input]))}"
   ]
  },
  {
   "cell_type": "code",
   "execution_count": 34,
   "metadata": {},
   "outputs": [
    {
     "name": "stdout",
     "output_type": "stream",
     "text": [
      "(?, 256)\n",
      "(256, 128)\n",
      "(128,)\n"
     ]
    }
   ],
   "source": [
    "# it encodes the input data \n",
    "encoder_in = tf.nn.sigmoid(tf.add(tf.matmul(X,weights['encoder_h1']),biases['encoder_b1']))\n",
    "print(encoder_in.shape)\n",
    "print(weights['encoder_h2'].shape)\n",
    "print(biases['encoder_b2'].shape)\n",
    "# in this we convert 756 feature into 256 feature by this function which make the equation for reducing the feature"
   ]
  },
  {
   "cell_type": "code",
   "execution_count": 35,
   "metadata": {},
   "outputs": [],
   "source": [
    "# in above encoder_in we get the 256 feature by which we further we get 128 featue (by encoder out equation format)\n",
    "encoder_out = tf.nn.sigmoid(tf.add(tf.matmul(encoder_in,weights['encoder_h2']),biases['encoder_b2']))"
   ]
  },
  {
   "cell_type": "code",
   "execution_count": 37,
   "metadata": {},
   "outputs": [],
   "source": [
    "# in this we decode the 128 feature to 256 feature \n",
    "decoder_in = tf.nn.sigmoid(tf.add(tf.matmul(encoder_out,weights['decoder_h1']),biases['decoder_b1']))"
   ]
  },
  {
   "cell_type": "code",
   "execution_count": 38,
   "metadata": {
    "collapsed": true
   },
   "outputs": [],
   "source": [
    "# in this we decode 256 feature to 756 feature as the output \n",
    "decoder_out = tf.nn.sigmoid(tf.add (tf.matmul(decoder_in,weights['decoder_h2']),biases['decoder_b2']))"
   ]
  },
  {
   "cell_type": "code",
   "execution_count": 39,
   "metadata": {
    "collapsed": true
   },
   "outputs": [],
   "source": [
    "y_pred = decoder_out\n",
    "y_true = X\n"
   ]
  },
  {
   "cell_type": "code",
   "execution_count": 42,
   "metadata": {},
   "outputs": [
    {
     "name": "stdout",
     "output_type": "stream",
     "text": [
      "WARNING:tensorflow:From C:\\Users\\vibhu\\Anaconda3\\envs\\tensorflow\\lib\\site-packages\\tensorflow\\python\\util\\tf_should_use.py:175: initialize_all_variables (from tensorflow.python.ops.variables) is deprecated and will be removed after 2017-03-02.\n",
      "Instructions for updating:\n",
      "Use `tf.global_variables_initializer` instead.\n"
     ]
    }
   ],
   "source": [
    "# in this section we make cost function and optimizer and intialze all the variable \n",
    "cost = tf.reduce_mean(tf.pow(y_true - y_pred, 2)) \n",
    "optimizer = tf.train.RMSPropOptimizer(learning_rate).minimize(cost) \n",
    "init = tf.initialize_all_variables()"
   ]
  },
  {
   "cell_type": "code",
   "execution_count": 45,
   "metadata": {},
   "outputs": [
    {
     "name": "stdout",
     "output_type": "stream",
     "text": [
      "Epoch: 0001 cost= 0.191564813\n",
      "Epoch: 0002 cost= 0.158223867\n",
      "Epoch: 0003 cost= 0.142178461\n",
      "Epoch: 0004 cost= 0.132345155\n",
      "Epoch: 0005 cost= 0.123570286\n",
      "Epoch: 0006 cost= 0.119165801\n",
      "Epoch: 0007 cost= 0.116798945\n",
      "Epoch: 0008 cost= 0.111994490\n",
      "Epoch: 0009 cost= 0.112105794\n",
      "Epoch: 0010 cost= 0.109982416\n",
      "Optimization Finished!\n"
     ]
    }
   ],
   "source": [
    "with tf.Session() as sess: \n",
    "    sess.run(init)     \n",
    "    total_batch = int(mnist.train.num_examples/batch_size)\n",
    "    for epoch in range(training_epochs):\n",
    "        for i in range(total_batch):\n",
    "            batch_xs, batch_ys = mnist.train.next_batch(batch_size) \n",
    "            _, c = sess.run([optimizer, cost],feed_dict={X: batch_xs})\n",
    "        if(epoch % display_step )== 0:\n",
    "            print(\"Epoch:\", '%04d' % (epoch+1),\"cost=\", \"{:.9f}\".format(c))\n",
    "    print(\"Optimization Finished!\")\n",
    "    encode_decode = sess.run(y_pred, feed_dict={X: mnist.test.images[:examples_to_show]})\n",
    "    "
   ]
  },
  {
   "cell_type": "code",
   "execution_count": 46,
   "metadata": {},
   "outputs": [
    {
     "name": "stderr",
     "output_type": "stream",
     "text": [
      "C:\\Users\\vibhu\\Anaconda3\\envs\\tensorflow\\lib\\site-packages\\matplotlib\\figure.py:418: UserWarning: matplotlib is currently using a non-GUI backend, so cannot show the figure\n",
      "  \"matplotlib is currently using a non-GUI backend, \"\n"
     ]
    },
    {
     "data": {
      "image/png": "[encoded data removed]",
      "text/plain": [
       "<matplotlib.figure.Figure at 0x1ae529f0208>"
      ]
     },
     "metadata": {},
     "output_type": "display_data"
    }
   ],
   "source": [
    "f, a = plt.subplots(2, 4, figsize=(10, 5))\n",
    "for i in range(examples_to_show):\n",
    "    a[0][i].imshow(np.reshape(mnist.test.images[i], (28, 28))) \n",
    "    a[1][i].imshow(np.reshape(encode_decode[i], (28, 28)))\n",
    "f.show()\n",
    "plt.draw()     \n",
    "plt.show() "
   ]
  },
  {
   "cell_type": "code",
   "execution_count": null,
   "metadata": {
    "collapsed": true
   },
   "outputs": [],
   "source": []
  }
 ],
 "metadata": {
  "kernelspec": {
   "display_name": "Python 3",
   "language": "python",
   "name": "python3"
  },
  "language_info": {
   "codemirror_mode": {
    "name": "ipython",
    "version": 3
   },
   "file_extension": ".py",
   "mimetype": "text/x-python",
   "name": "python",
   "nbconvert_exporter": "python",
   "pygments_lexer": "ipython3",
   "version": "3.5.4"
  }
 },
 "nbformat": 4,
 "nbformat_minor": 2
}
